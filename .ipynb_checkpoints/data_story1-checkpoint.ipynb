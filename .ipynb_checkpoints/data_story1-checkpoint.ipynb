{
 "cells": [
  {
   "cell_type": "code",
   "execution_count": 1,
   "metadata": {
    "collapsed": false
   },
   "outputs": [],
   "source": [
    "%matplotlib inline\n",
    "import matplotlib.pyplot as plt\n",
    "import pandas as pd\n",
    "import numpy as np\n",
    "import warnings\n",
    "warnings.filterwarnings('ignore')\n"
   ]
  },
  {
   "cell_type": "code",
   "execution_count": 2,
   "metadata": {
    "collapsed": false,
    "scrolled": true
   },
   "outputs": [
    {
     "data": {
      "text/html": [
       "<div>\n",
       "<table border=\"1\" class=\"dataframe\">\n",
       "  <thead>\n",
       "    <tr style=\"text-align: right;\">\n",
       "      <th></th>\n",
       "      <th>RespondentID</th>\n",
       "      <th>Knowledge</th>\n",
       "      <th>Interest</th>\n",
       "      <th>Please rate how much you like the traditional cuisine of Algeria:</th>\n",
       "      <th>Please rate how much you like the traditional cuisine of Argentina.</th>\n",
       "      <th>Please rate how much you like the traditional cuisine of�Australia.</th>\n",
       "      <th>Please rate how much you like the traditional cuisine of Belgium.</th>\n",
       "      <th>Please rate how much you like the traditional cuisine of Bosnia and Herzegovina.</th>\n",
       "      <th>Please rate how much you like the traditional cuisine of Brazil.</th>\n",
       "      <th>Please rate how much you like the traditional cuisine of Cameroon.</th>\n",
       "      <th>...</th>\n",
       "      <th>Please rate how much you like the traditional cuisine of Turkey.</th>\n",
       "      <th>Please rate how much you like the traditional cuisine of Cuba.</th>\n",
       "      <th>Please rate how much you like the traditional cuisine of Ethiopia.</th>\n",
       "      <th>Please rate how much you like the traditional cuisine of Vietnam.</th>\n",
       "      <th>Please rate how much you like the traditional cuisine of Ireland.</th>\n",
       "      <th>Gender</th>\n",
       "      <th>Age</th>\n",
       "      <th>Household Income</th>\n",
       "      <th>Education</th>\n",
       "      <th>Location</th>\n",
       "    </tr>\n",
       "  </thead>\n",
       "  <tbody>\n",
       "    <tr>\n",
       "      <th>0</th>\n",
       "      <td>3308895255</td>\n",
       "      <td>Intermediate</td>\n",
       "      <td>Some</td>\n",
       "      <td>NaN</td>\n",
       "      <td>3</td>\n",
       "      <td>5</td>\n",
       "      <td>4</td>\n",
       "      <td>NaN</td>\n",
       "      <td>3</td>\n",
       "      <td>NaN</td>\n",
       "      <td>...</td>\n",
       "      <td>NaN</td>\n",
       "      <td>NaN</td>\n",
       "      <td>3</td>\n",
       "      <td>NaN</td>\n",
       "      <td>4</td>\n",
       "      <td>Male</td>\n",
       "      <td>18-29</td>\n",
       "      <td>$100,000 - $149,999</td>\n",
       "      <td>Less than high school degree</td>\n",
       "      <td>West South Central</td>\n",
       "    </tr>\n",
       "    <tr>\n",
       "      <th>1</th>\n",
       "      <td>3308891308</td>\n",
       "      <td>Novice</td>\n",
       "      <td>Some</td>\n",
       "      <td>NaN</td>\n",
       "      <td>NaN</td>\n",
       "      <td>3</td>\n",
       "      <td>3</td>\n",
       "      <td>NaN</td>\n",
       "      <td>3</td>\n",
       "      <td>NaN</td>\n",
       "      <td>...</td>\n",
       "      <td>NaN</td>\n",
       "      <td>NaN</td>\n",
       "      <td>NaN</td>\n",
       "      <td>NaN</td>\n",
       "      <td>4</td>\n",
       "      <td>Male</td>\n",
       "      <td>18-29</td>\n",
       "      <td>$100,000 - $149,999</td>\n",
       "      <td>Some college or Associate degree</td>\n",
       "      <td>West South Central</td>\n",
       "    </tr>\n",
       "    <tr>\n",
       "      <th>2</th>\n",
       "      <td>3308891135</td>\n",
       "      <td>Intermediate</td>\n",
       "      <td>A lot</td>\n",
       "      <td>3</td>\n",
       "      <td>4</td>\n",
       "      <td>NaN</td>\n",
       "      <td>3</td>\n",
       "      <td>NaN</td>\n",
       "      <td>4</td>\n",
       "      <td>5</td>\n",
       "      <td>...</td>\n",
       "      <td>NaN</td>\n",
       "      <td>4</td>\n",
       "      <td>5</td>\n",
       "      <td>4</td>\n",
       "      <td>3</td>\n",
       "      <td>Male</td>\n",
       "      <td>30-44</td>\n",
       "      <td>$50,000 - $99,999</td>\n",
       "      <td>Graduate degree</td>\n",
       "      <td>Pacific</td>\n",
       "    </tr>\n",
       "    <tr>\n",
       "      <th>3</th>\n",
       "      <td>3308879091</td>\n",
       "      <td>Novice</td>\n",
       "      <td>Not much�</td>\n",
       "      <td>NaN</td>\n",
       "      <td>3</td>\n",
       "      <td>NaN</td>\n",
       "      <td>3</td>\n",
       "      <td>NaN</td>\n",
       "      <td>NaN</td>\n",
       "      <td>3</td>\n",
       "      <td>...</td>\n",
       "      <td>3</td>\n",
       "      <td>4</td>\n",
       "      <td>NaN</td>\n",
       "      <td>4</td>\n",
       "      <td>3</td>\n",
       "      <td>Male</td>\n",
       "      <td>45-60</td>\n",
       "      <td>$0 - $24,999</td>\n",
       "      <td>Less than high school degree</td>\n",
       "      <td>New England</td>\n",
       "    </tr>\n",
       "    <tr>\n",
       "      <th>4</th>\n",
       "      <td>3308871671</td>\n",
       "      <td>Novice</td>\n",
       "      <td>Not much�</td>\n",
       "      <td>NaN</td>\n",
       "      <td>NaN</td>\n",
       "      <td>NaN</td>\n",
       "      <td>NaN</td>\n",
       "      <td>NaN</td>\n",
       "      <td>NaN</td>\n",
       "      <td>NaN</td>\n",
       "      <td>...</td>\n",
       "      <td>NaN</td>\n",
       "      <td>3</td>\n",
       "      <td>NaN</td>\n",
       "      <td>3</td>\n",
       "      <td>NaN</td>\n",
       "      <td>Male</td>\n",
       "      <td>30-44</td>\n",
       "      <td>$25,000 - $49,999</td>\n",
       "      <td>High school degree</td>\n",
       "      <td>Pacific</td>\n",
       "    </tr>\n",
       "  </tbody>\n",
       "</table>\n",
       "<p>5 rows × 48 columns</p>\n",
       "</div>"
      ],
      "text/plain": [
       "   RespondentID     Knowledge   Interest  \\\n",
       "0    3308895255  Intermediate       Some   \n",
       "1    3308891308        Novice       Some   \n",
       "2    3308891135  Intermediate      A lot   \n",
       "3    3308879091        Novice  Not much�   \n",
       "4    3308871671        Novice  Not much�   \n",
       "\n",
       "   Please rate how much you like the traditional cuisine of Algeria:  \\\n",
       "0                                                NaN                   \n",
       "1                                                NaN                   \n",
       "2                                                  3                   \n",
       "3                                                NaN                   \n",
       "4                                                NaN                   \n",
       "\n",
       "   Please rate how much you like the traditional cuisine of Argentina.  \\\n",
       "0                                                  3                     \n",
       "1                                                NaN                     \n",
       "2                                                  4                     \n",
       "3                                                  3                     \n",
       "4                                                NaN                     \n",
       "\n",
       "   Please rate how much you like the traditional cuisine of�Australia.  \\\n",
       "0                                                  5                     \n",
       "1                                                  3                     \n",
       "2                                                NaN                     \n",
       "3                                                NaN                     \n",
       "4                                                NaN                     \n",
       "\n",
       "   Please rate how much you like the traditional cuisine of Belgium.  \\\n",
       "0                                                  4                   \n",
       "1                                                  3                   \n",
       "2                                                  3                   \n",
       "3                                                  3                   \n",
       "4                                                NaN                   \n",
       "\n",
       "   Please rate how much you like the traditional cuisine of Bosnia and Herzegovina.  \\\n",
       "0                                                NaN                                  \n",
       "1                                                NaN                                  \n",
       "2                                                NaN                                  \n",
       "3                                                NaN                                  \n",
       "4                                                NaN                                  \n",
       "\n",
       "   Please rate how much you like the traditional cuisine of Brazil.  \\\n",
       "0                                                  3                  \n",
       "1                                                  3                  \n",
       "2                                                  4                  \n",
       "3                                                NaN                  \n",
       "4                                                NaN                  \n",
       "\n",
       "   Please rate how much you like the traditional cuisine of Cameroon.  \\\n",
       "0                                                NaN                    \n",
       "1                                                NaN                    \n",
       "2                                                  5                    \n",
       "3                                                  3                    \n",
       "4                                                NaN                    \n",
       "\n",
       "          ...          \\\n",
       "0         ...           \n",
       "1         ...           \n",
       "2         ...           \n",
       "3         ...           \n",
       "4         ...           \n",
       "\n",
       "   Please rate how much you like the traditional cuisine of Turkey.  \\\n",
       "0                                                NaN                  \n",
       "1                                                NaN                  \n",
       "2                                                NaN                  \n",
       "3                                                  3                  \n",
       "4                                                NaN                  \n",
       "\n",
       "   Please rate how much you like the traditional cuisine of Cuba.  \\\n",
       "0                                                NaN                \n",
       "1                                                NaN                \n",
       "2                                                  4                \n",
       "3                                                  4                \n",
       "4                                                  3                \n",
       "\n",
       "   Please rate how much you like the traditional cuisine of Ethiopia.  \\\n",
       "0                                                  3                    \n",
       "1                                                NaN                    \n",
       "2                                                  5                    \n",
       "3                                                NaN                    \n",
       "4                                                NaN                    \n",
       "\n",
       "   Please rate how much you like the traditional cuisine of Vietnam.  \\\n",
       "0                                                NaN                   \n",
       "1                                                NaN                   \n",
       "2                                                  4                   \n",
       "3                                                  4                   \n",
       "4                                                  3                   \n",
       "\n",
       "   Please rate how much you like the traditional cuisine of Ireland.  Gender  \\\n",
       "0                                                  4                    Male   \n",
       "1                                                  4                    Male   \n",
       "2                                                  3                    Male   \n",
       "3                                                  3                    Male   \n",
       "4                                                NaN                    Male   \n",
       "\n",
       "     Age     Household Income                         Education  \\\n",
       "0  18-29  $100,000 - $149,999      Less than high school degree   \n",
       "1  18-29  $100,000 - $149,999  Some college or Associate degree   \n",
       "2  30-44    $50,000 - $99,999                   Graduate degree   \n",
       "3  45-60         $0 - $24,999      Less than high school degree   \n",
       "4  30-44    $25,000 - $49,999                High school degree   \n",
       "\n",
       "             Location  \n",
       "0  West South Central  \n",
       "1  West South Central  \n",
       "2             Pacific  \n",
       "3         New England  \n",
       "4             Pacific  \n",
       "\n",
       "[5 rows x 48 columns]"
      ]
     },
     "execution_count": 2,
     "metadata": {},
     "output_type": "execute_result"
    }
   ],
   "source": [
    "food_data = pd.DataFrame.from_csv('food-world-cup-data.csv', index_col=None)\n",
    "food_data.head()"
   ]
  },
  {
   "cell_type": "code",
   "execution_count": 3,
   "metadata": {
    "collapsed": false
   },
   "outputs": [],
   "source": [
    "country=food_data"
   ]
  },
  {
   "cell_type": "code",
   "execution_count": null,
   "metadata": {
    "collapsed": false
   },
   "outputs": [],
   "source": []
  },
  {
   "cell_type": "code",
   "execution_count": 4,
   "metadata": {
    "collapsed": false
   },
   "outputs": [
    {
     "data": {
      "text/html": [
       "<div>\n",
       "<table border=\"1\" class=\"dataframe\">\n",
       "  <thead>\n",
       "    <tr style=\"text-align: right;\">\n",
       "      <th></th>\n",
       "      <th>RespondentID</th>\n",
       "      <th>Gender</th>\n",
       "      <th>Age</th>\n",
       "      <th>Household Income</th>\n",
       "      <th>Education</th>\n",
       "      <th>Knowledge</th>\n",
       "      <th>Interest</th>\n",
       "      <th>Location</th>\n",
       "      <th>cty</th>\n",
       "      <th>value</th>\n",
       "    </tr>\n",
       "  </thead>\n",
       "  <tbody>\n",
       "    <tr>\n",
       "      <th>0</th>\n",
       "      <td>3308895255</td>\n",
       "      <td>Male</td>\n",
       "      <td>18-29</td>\n",
       "      <td>$100,000 - $149,999</td>\n",
       "      <td>Less than high school degree</td>\n",
       "      <td>Intermediate</td>\n",
       "      <td>Some</td>\n",
       "      <td>West South Central</td>\n",
       "      <td>Algeria</td>\n",
       "      <td>NaN</td>\n",
       "    </tr>\n",
       "    <tr>\n",
       "      <th>1</th>\n",
       "      <td>3308891308</td>\n",
       "      <td>Male</td>\n",
       "      <td>18-29</td>\n",
       "      <td>$100,000 - $149,999</td>\n",
       "      <td>Some college or Associate degree</td>\n",
       "      <td>Novice</td>\n",
       "      <td>Some</td>\n",
       "      <td>West South Central</td>\n",
       "      <td>Algeria</td>\n",
       "      <td>NaN</td>\n",
       "    </tr>\n",
       "    <tr>\n",
       "      <th>2</th>\n",
       "      <td>3308891135</td>\n",
       "      <td>Male</td>\n",
       "      <td>30-44</td>\n",
       "      <td>$50,000 - $99,999</td>\n",
       "      <td>Graduate degree</td>\n",
       "      <td>Intermediate</td>\n",
       "      <td>A lot</td>\n",
       "      <td>Pacific</td>\n",
       "      <td>Algeria</td>\n",
       "      <td>3</td>\n",
       "    </tr>\n",
       "    <tr>\n",
       "      <th>3</th>\n",
       "      <td>3308879091</td>\n",
       "      <td>Male</td>\n",
       "      <td>45-60</td>\n",
       "      <td>$0 - $24,999</td>\n",
       "      <td>Less than high school degree</td>\n",
       "      <td>Novice</td>\n",
       "      <td>Not much�</td>\n",
       "      <td>New England</td>\n",
       "      <td>Algeria</td>\n",
       "      <td>NaN</td>\n",
       "    </tr>\n",
       "    <tr>\n",
       "      <th>4</th>\n",
       "      <td>3308871671</td>\n",
       "      <td>Male</td>\n",
       "      <td>30-44</td>\n",
       "      <td>$25,000 - $49,999</td>\n",
       "      <td>High school degree</td>\n",
       "      <td>Novice</td>\n",
       "      <td>Not much�</td>\n",
       "      <td>Pacific</td>\n",
       "      <td>Algeria</td>\n",
       "      <td>NaN</td>\n",
       "    </tr>\n",
       "    <tr>\n",
       "      <th>5</th>\n",
       "      <td>3308871406</td>\n",
       "      <td>Female</td>\n",
       "      <td>30-44</td>\n",
       "      <td>$50,000 - $99,999</td>\n",
       "      <td>Graduate degree</td>\n",
       "      <td>Advanced</td>\n",
       "      <td>A lot</td>\n",
       "      <td>East North Central</td>\n",
       "      <td>Algeria</td>\n",
       "      <td>NaN</td>\n",
       "    </tr>\n",
       "    <tr>\n",
       "      <th>6</th>\n",
       "      <td>3308866182</td>\n",
       "      <td>Male</td>\n",
       "      <td>45-60</td>\n",
       "      <td>NaN</td>\n",
       "      <td>High school degree</td>\n",
       "      <td>Novice</td>\n",
       "      <td>Some</td>\n",
       "      <td>West South Central</td>\n",
       "      <td>Algeria</td>\n",
       "      <td>NaN</td>\n",
       "    </tr>\n",
       "    <tr>\n",
       "      <th>7</th>\n",
       "      <td>3308857114</td>\n",
       "      <td>Male</td>\n",
       "      <td>45-60</td>\n",
       "      <td>$0 - $24,999</td>\n",
       "      <td>Some college or Associate degree</td>\n",
       "      <td>Advanced</td>\n",
       "      <td>A lot</td>\n",
       "      <td>South Atlantic</td>\n",
       "      <td>Algeria</td>\n",
       "      <td>NaN</td>\n",
       "    </tr>\n",
       "    <tr>\n",
       "      <th>8</th>\n",
       "      <td>3308856510</td>\n",
       "      <td>Female</td>\n",
       "      <td>30-44</td>\n",
       "      <td>$50,000 - $99,999</td>\n",
       "      <td>Some college or Associate degree</td>\n",
       "      <td>Novice</td>\n",
       "      <td>Not much�</td>\n",
       "      <td>South Atlantic</td>\n",
       "      <td>Algeria</td>\n",
       "      <td>NaN</td>\n",
       "    </tr>\n",
       "    <tr>\n",
       "      <th>9</th>\n",
       "      <td>3308846915</td>\n",
       "      <td>NaN</td>\n",
       "      <td>NaN</td>\n",
       "      <td>NaN</td>\n",
       "      <td>NaN</td>\n",
       "      <td>Novice</td>\n",
       "      <td>Some</td>\n",
       "      <td>NaN</td>\n",
       "      <td>Algeria</td>\n",
       "      <td>NaN</td>\n",
       "    </tr>\n",
       "    <tr>\n",
       "      <th>10</th>\n",
       "      <td>3308845993</td>\n",
       "      <td>Male</td>\n",
       "      <td>30-44</td>\n",
       "      <td>$50,000 - $99,999</td>\n",
       "      <td>Bachelor degree</td>\n",
       "      <td>Advanced</td>\n",
       "      <td>A lot</td>\n",
       "      <td>Mountain</td>\n",
       "      <td>Algeria</td>\n",
       "      <td>NaN</td>\n",
       "    </tr>\n",
       "    <tr>\n",
       "      <th>11</th>\n",
       "      <td>3308837085</td>\n",
       "      <td>Male</td>\n",
       "      <td>&gt; 60</td>\n",
       "      <td>$0 - $24,999</td>\n",
       "      <td>Some college or Associate degree</td>\n",
       "      <td>Novice</td>\n",
       "      <td>Some</td>\n",
       "      <td>South Atlantic</td>\n",
       "      <td>Algeria</td>\n",
       "      <td>NaN</td>\n",
       "    </tr>\n",
       "    <tr>\n",
       "      <th>12</th>\n",
       "      <td>3308834022</td>\n",
       "      <td>Male</td>\n",
       "      <td>18-29</td>\n",
       "      <td>$25,000 - $49,999</td>\n",
       "      <td>High school degree</td>\n",
       "      <td>Intermediate</td>\n",
       "      <td>A lot</td>\n",
       "      <td>Middle Atlantic</td>\n",
       "      <td>Algeria</td>\n",
       "      <td>3</td>\n",
       "    </tr>\n",
       "    <tr>\n",
       "      <th>13</th>\n",
       "      <td>3308832927</td>\n",
       "      <td>Female</td>\n",
       "      <td>30-44</td>\n",
       "      <td>NaN</td>\n",
       "      <td>Bachelor degree</td>\n",
       "      <td>Intermediate</td>\n",
       "      <td>Some</td>\n",
       "      <td>Middle Atlantic</td>\n",
       "      <td>Algeria</td>\n",
       "      <td>NaN</td>\n",
       "    </tr>\n",
       "    <tr>\n",
       "      <th>14</th>\n",
       "      <td>3308823251</td>\n",
       "      <td>Female</td>\n",
       "      <td>30-44</td>\n",
       "      <td>$50,000 - $99,999</td>\n",
       "      <td>Graduate degree</td>\n",
       "      <td>Intermediate</td>\n",
       "      <td>Some</td>\n",
       "      <td>Pacific</td>\n",
       "      <td>Algeria</td>\n",
       "      <td>NaN</td>\n",
       "    </tr>\n",
       "    <tr>\n",
       "      <th>15</th>\n",
       "      <td>3308819174</td>\n",
       "      <td>Female</td>\n",
       "      <td>30-44</td>\n",
       "      <td>$25,000 - $49,999</td>\n",
       "      <td>Some college or Associate degree</td>\n",
       "      <td>Intermediate</td>\n",
       "      <td>Some</td>\n",
       "      <td>Pacific</td>\n",
       "      <td>Algeria</td>\n",
       "      <td>NaN</td>\n",
       "    </tr>\n",
       "    <tr>\n",
       "      <th>16</th>\n",
       "      <td>3308816847</td>\n",
       "      <td>Male</td>\n",
       "      <td>30-44</td>\n",
       "      <td>$50,000 - $99,999</td>\n",
       "      <td>Some college or Associate degree</td>\n",
       "      <td>Novice</td>\n",
       "      <td>Not at all�</td>\n",
       "      <td>Pacific</td>\n",
       "      <td>Algeria</td>\n",
       "      <td>NaN</td>\n",
       "    </tr>\n",
       "    <tr>\n",
       "      <th>17</th>\n",
       "      <td>3308816305</td>\n",
       "      <td>NaN</td>\n",
       "      <td>NaN</td>\n",
       "      <td>NaN</td>\n",
       "      <td>NaN</td>\n",
       "      <td>Novice</td>\n",
       "      <td>Not much�</td>\n",
       "      <td>NaN</td>\n",
       "      <td>Algeria</td>\n",
       "      <td>NaN</td>\n",
       "    </tr>\n",
       "    <tr>\n",
       "      <th>18</th>\n",
       "      <td>3308815266</td>\n",
       "      <td>Male</td>\n",
       "      <td>&gt; 60</td>\n",
       "      <td>$0 - $24,999</td>\n",
       "      <td>Some college or Associate degree</td>\n",
       "      <td>Novice</td>\n",
       "      <td>Not much�</td>\n",
       "      <td>Middle Atlantic</td>\n",
       "      <td>Algeria</td>\n",
       "      <td>NaN</td>\n",
       "    </tr>\n",
       "    <tr>\n",
       "      <th>19</th>\n",
       "      <td>3308813105</td>\n",
       "      <td>Male</td>\n",
       "      <td>45-60</td>\n",
       "      <td>NaN</td>\n",
       "      <td>Some college or Associate degree</td>\n",
       "      <td>Novice</td>\n",
       "      <td>Some</td>\n",
       "      <td>Mountain</td>\n",
       "      <td>Algeria</td>\n",
       "      <td>NaN</td>\n",
       "    </tr>\n",
       "    <tr>\n",
       "      <th>20</th>\n",
       "      <td>3308809158</td>\n",
       "      <td>Male</td>\n",
       "      <td>18-29</td>\n",
       "      <td>$0 - $24,999</td>\n",
       "      <td>Bachelor degree</td>\n",
       "      <td>Intermediate</td>\n",
       "      <td>A lot</td>\n",
       "      <td>East North Central</td>\n",
       "      <td>Algeria</td>\n",
       "      <td>4</td>\n",
       "    </tr>\n",
       "    <tr>\n",
       "      <th>21</th>\n",
       "      <td>3308805258</td>\n",
       "      <td>Male</td>\n",
       "      <td>18-29</td>\n",
       "      <td>$0 - $24,999</td>\n",
       "      <td>Some college or Associate degree</td>\n",
       "      <td>Novice</td>\n",
       "      <td>Some</td>\n",
       "      <td>Mountain</td>\n",
       "      <td>Algeria</td>\n",
       "      <td>NaN</td>\n",
       "    </tr>\n",
       "    <tr>\n",
       "      <th>22</th>\n",
       "      <td>3308804182</td>\n",
       "      <td>NaN</td>\n",
       "      <td>NaN</td>\n",
       "      <td>NaN</td>\n",
       "      <td>NaN</td>\n",
       "      <td>Intermediate</td>\n",
       "      <td>Not much�</td>\n",
       "      <td>NaN</td>\n",
       "      <td>Algeria</td>\n",
       "      <td>NaN</td>\n",
       "    </tr>\n",
       "    <tr>\n",
       "      <th>23</th>\n",
       "      <td>3308800049</td>\n",
       "      <td>Male</td>\n",
       "      <td>30-44</td>\n",
       "      <td>$25,000 - $49,999</td>\n",
       "      <td>Some college or Associate degree</td>\n",
       "      <td>Novice</td>\n",
       "      <td>Some</td>\n",
       "      <td>East South Central</td>\n",
       "      <td>Algeria</td>\n",
       "      <td>NaN</td>\n",
       "    </tr>\n",
       "    <tr>\n",
       "      <th>24</th>\n",
       "      <td>3308799446</td>\n",
       "      <td>Male</td>\n",
       "      <td>18-29</td>\n",
       "      <td>$150,000+</td>\n",
       "      <td>Some college or Associate degree</td>\n",
       "      <td>Novice</td>\n",
       "      <td>Not at all�</td>\n",
       "      <td>West North Central</td>\n",
       "      <td>Algeria</td>\n",
       "      <td>NaN</td>\n",
       "    </tr>\n",
       "    <tr>\n",
       "      <th>25</th>\n",
       "      <td>3308793678</td>\n",
       "      <td>Male</td>\n",
       "      <td>&gt; 60</td>\n",
       "      <td>$100,000 - $149,999</td>\n",
       "      <td>Graduate degree</td>\n",
       "      <td>Intermediate</td>\n",
       "      <td>Some</td>\n",
       "      <td>East North Central</td>\n",
       "      <td>Algeria</td>\n",
       "      <td>NaN</td>\n",
       "    </tr>\n",
       "    <tr>\n",
       "      <th>26</th>\n",
       "      <td>3308792170</td>\n",
       "      <td>NaN</td>\n",
       "      <td>NaN</td>\n",
       "      <td>NaN</td>\n",
       "      <td>NaN</td>\n",
       "      <td>Intermediate</td>\n",
       "      <td>Not much�</td>\n",
       "      <td>NaN</td>\n",
       "      <td>Algeria</td>\n",
       "      <td>NaN</td>\n",
       "    </tr>\n",
       "    <tr>\n",
       "      <th>27</th>\n",
       "      <td>3308784370</td>\n",
       "      <td>Male</td>\n",
       "      <td>30-44</td>\n",
       "      <td>$50,000 - $99,999</td>\n",
       "      <td>Some college or Associate degree</td>\n",
       "      <td>Intermediate</td>\n",
       "      <td>A lot</td>\n",
       "      <td>Mountain</td>\n",
       "      <td>Algeria</td>\n",
       "      <td>3</td>\n",
       "    </tr>\n",
       "    <tr>\n",
       "      <th>28</th>\n",
       "      <td>3308779771</td>\n",
       "      <td>Male</td>\n",
       "      <td>&gt; 60</td>\n",
       "      <td>$50,000 - $99,999</td>\n",
       "      <td>Graduate degree</td>\n",
       "      <td>Intermediate</td>\n",
       "      <td>Some</td>\n",
       "      <td>New England</td>\n",
       "      <td>Algeria</td>\n",
       "      <td>NaN</td>\n",
       "    </tr>\n",
       "    <tr>\n",
       "      <th>29</th>\n",
       "      <td>3308777531</td>\n",
       "      <td>Female</td>\n",
       "      <td>30-44</td>\n",
       "      <td>$50,000 - $99,999</td>\n",
       "      <td>Graduate degree</td>\n",
       "      <td>Intermediate</td>\n",
       "      <td>Some</td>\n",
       "      <td>South Atlantic</td>\n",
       "      <td>Algeria</td>\n",
       "      <td>NaN</td>\n",
       "    </tr>\n",
       "    <tr>\n",
       "      <th>...</th>\n",
       "      <td>...</td>\n",
       "      <td>...</td>\n",
       "      <td>...</td>\n",
       "      <td>...</td>\n",
       "      <td>...</td>\n",
       "      <td>...</td>\n",
       "      <td>...</td>\n",
       "      <td>...</td>\n",
       "      <td>...</td>\n",
       "      <td>...</td>\n",
       "    </tr>\n",
       "    <tr>\n",
       "      <th>54890</th>\n",
       "      <td>3306385232</td>\n",
       "      <td>Female</td>\n",
       "      <td>30-44</td>\n",
       "      <td>$25,000 - $49,999</td>\n",
       "      <td>Bachelor degree</td>\n",
       "      <td>Novice</td>\n",
       "      <td>Some</td>\n",
       "      <td>West North Central</td>\n",
       "      <td>Ireland</td>\n",
       "      <td>3</td>\n",
       "    </tr>\n",
       "    <tr>\n",
       "      <th>54891</th>\n",
       "      <td>3306385197</td>\n",
       "      <td>NaN</td>\n",
       "      <td>NaN</td>\n",
       "      <td>NaN</td>\n",
       "      <td>NaN</td>\n",
       "      <td>Novice</td>\n",
       "      <td>Some</td>\n",
       "      <td>NaN</td>\n",
       "      <td>Ireland</td>\n",
       "      <td>NaN</td>\n",
       "    </tr>\n",
       "    <tr>\n",
       "      <th>54892</th>\n",
       "      <td>3306384984</td>\n",
       "      <td>Male</td>\n",
       "      <td>18-29</td>\n",
       "      <td>$50,000 - $99,999</td>\n",
       "      <td>Some college or Associate degree</td>\n",
       "      <td>Intermediate</td>\n",
       "      <td>Some</td>\n",
       "      <td>West South Central</td>\n",
       "      <td>Ireland</td>\n",
       "      <td>5</td>\n",
       "    </tr>\n",
       "    <tr>\n",
       "      <th>54893</th>\n",
       "      <td>3306384930</td>\n",
       "      <td>Female</td>\n",
       "      <td>&gt; 60</td>\n",
       "      <td>$100,000 - $149,999</td>\n",
       "      <td>Bachelor degree</td>\n",
       "      <td>Novice</td>\n",
       "      <td>Some</td>\n",
       "      <td>East North Central</td>\n",
       "      <td>Ireland</td>\n",
       "      <td>3</td>\n",
       "    </tr>\n",
       "    <tr>\n",
       "      <th>54894</th>\n",
       "      <td>3306384923</td>\n",
       "      <td>Male</td>\n",
       "      <td>45-60</td>\n",
       "      <td>NaN</td>\n",
       "      <td>Graduate degree</td>\n",
       "      <td>Novice</td>\n",
       "      <td>Some</td>\n",
       "      <td>East South Central</td>\n",
       "      <td>Ireland</td>\n",
       "      <td>3</td>\n",
       "    </tr>\n",
       "    <tr>\n",
       "      <th>54895</th>\n",
       "      <td>3306384858</td>\n",
       "      <td>Female</td>\n",
       "      <td>18-29</td>\n",
       "      <td>$0 - $24,999</td>\n",
       "      <td>Graduate degree</td>\n",
       "      <td>Intermediate</td>\n",
       "      <td>Some</td>\n",
       "      <td>New England</td>\n",
       "      <td>Ireland</td>\n",
       "      <td>2</td>\n",
       "    </tr>\n",
       "    <tr>\n",
       "      <th>54896</th>\n",
       "      <td>3306384671</td>\n",
       "      <td>NaN</td>\n",
       "      <td>NaN</td>\n",
       "      <td>NaN</td>\n",
       "      <td>NaN</td>\n",
       "      <td>Intermediate</td>\n",
       "      <td>Some</td>\n",
       "      <td>NaN</td>\n",
       "      <td>Ireland</td>\n",
       "      <td>NaN</td>\n",
       "    </tr>\n",
       "    <tr>\n",
       "      <th>54897</th>\n",
       "      <td>3306384591</td>\n",
       "      <td>Female</td>\n",
       "      <td>18-29</td>\n",
       "      <td>$50,000 - $99,999</td>\n",
       "      <td>High school degree</td>\n",
       "      <td>Intermediate</td>\n",
       "      <td>Some</td>\n",
       "      <td>East North Central</td>\n",
       "      <td>Ireland</td>\n",
       "      <td>3</td>\n",
       "    </tr>\n",
       "    <tr>\n",
       "      <th>54898</th>\n",
       "      <td>3306384228</td>\n",
       "      <td>Female</td>\n",
       "      <td>&gt; 60</td>\n",
       "      <td>NaN</td>\n",
       "      <td>Graduate degree</td>\n",
       "      <td>Intermediate</td>\n",
       "      <td>Some</td>\n",
       "      <td>East North Central</td>\n",
       "      <td>Ireland</td>\n",
       "      <td>4</td>\n",
       "    </tr>\n",
       "    <tr>\n",
       "      <th>54899</th>\n",
       "      <td>3306383424</td>\n",
       "      <td>NaN</td>\n",
       "      <td>NaN</td>\n",
       "      <td>NaN</td>\n",
       "      <td>NaN</td>\n",
       "      <td>Advanced</td>\n",
       "      <td>A lot</td>\n",
       "      <td>NaN</td>\n",
       "      <td>Ireland</td>\n",
       "      <td>NaN</td>\n",
       "    </tr>\n",
       "    <tr>\n",
       "      <th>54900</th>\n",
       "      <td>3306383416</td>\n",
       "      <td>Female</td>\n",
       "      <td>&gt; 60</td>\n",
       "      <td>$50,000 - $99,999</td>\n",
       "      <td>Graduate degree</td>\n",
       "      <td>Intermediate</td>\n",
       "      <td>Some</td>\n",
       "      <td>East South Central</td>\n",
       "      <td>Ireland</td>\n",
       "      <td>3</td>\n",
       "    </tr>\n",
       "    <tr>\n",
       "      <th>54901</th>\n",
       "      <td>3306383076</td>\n",
       "      <td>Female</td>\n",
       "      <td>18-29</td>\n",
       "      <td>$25,000 - $49,999</td>\n",
       "      <td>Graduate degree</td>\n",
       "      <td>Intermediate</td>\n",
       "      <td>Not much�</td>\n",
       "      <td>Pacific</td>\n",
       "      <td>Ireland</td>\n",
       "      <td>3</td>\n",
       "    </tr>\n",
       "    <tr>\n",
       "      <th>54902</th>\n",
       "      <td>3306382754</td>\n",
       "      <td>Female</td>\n",
       "      <td>&gt; 60</td>\n",
       "      <td>$50,000 - $99,999</td>\n",
       "      <td>Bachelor degree</td>\n",
       "      <td>Novice</td>\n",
       "      <td>Not at all�</td>\n",
       "      <td>West South Central</td>\n",
       "      <td>Ireland</td>\n",
       "      <td>1</td>\n",
       "    </tr>\n",
       "    <tr>\n",
       "      <th>54903</th>\n",
       "      <td>3306382498</td>\n",
       "      <td>Male</td>\n",
       "      <td>&gt; 60</td>\n",
       "      <td>$150,000+</td>\n",
       "      <td>Graduate degree</td>\n",
       "      <td>Advanced</td>\n",
       "      <td>A lot</td>\n",
       "      <td>South Atlantic</td>\n",
       "      <td>Ireland</td>\n",
       "      <td>3</td>\n",
       "    </tr>\n",
       "    <tr>\n",
       "      <th>54904</th>\n",
       "      <td>3306382433</td>\n",
       "      <td>Female</td>\n",
       "      <td>45-60</td>\n",
       "      <td>NaN</td>\n",
       "      <td>Bachelor degree</td>\n",
       "      <td>Novice</td>\n",
       "      <td>Some</td>\n",
       "      <td>West South Central</td>\n",
       "      <td>Ireland</td>\n",
       "      <td>NaN</td>\n",
       "    </tr>\n",
       "    <tr>\n",
       "      <th>54905</th>\n",
       "      <td>3306382319</td>\n",
       "      <td>Male</td>\n",
       "      <td>30-44</td>\n",
       "      <td>$50,000 - $99,999</td>\n",
       "      <td>Some college or Associate degree</td>\n",
       "      <td>Novice</td>\n",
       "      <td>Some</td>\n",
       "      <td>Mountain</td>\n",
       "      <td>Ireland</td>\n",
       "      <td>3</td>\n",
       "    </tr>\n",
       "    <tr>\n",
       "      <th>54906</th>\n",
       "      <td>3306382284</td>\n",
       "      <td>Female</td>\n",
       "      <td>45-60</td>\n",
       "      <td>$100,000 - $149,999</td>\n",
       "      <td>Bachelor degree</td>\n",
       "      <td>Novice</td>\n",
       "      <td>Some</td>\n",
       "      <td>East North Central</td>\n",
       "      <td>Ireland</td>\n",
       "      <td>3</td>\n",
       "    </tr>\n",
       "    <tr>\n",
       "      <th>54907</th>\n",
       "      <td>3306382152</td>\n",
       "      <td>Female</td>\n",
       "      <td>45-60</td>\n",
       "      <td>$0 - $24,999</td>\n",
       "      <td>Some college or Associate degree</td>\n",
       "      <td>Novice</td>\n",
       "      <td>Not much�</td>\n",
       "      <td>South Atlantic</td>\n",
       "      <td>Ireland</td>\n",
       "      <td>2</td>\n",
       "    </tr>\n",
       "    <tr>\n",
       "      <th>54908</th>\n",
       "      <td>3306381961</td>\n",
       "      <td>NaN</td>\n",
       "      <td>NaN</td>\n",
       "      <td>NaN</td>\n",
       "      <td>NaN</td>\n",
       "      <td>Advanced</td>\n",
       "      <td>A lot</td>\n",
       "      <td>NaN</td>\n",
       "      <td>Ireland</td>\n",
       "      <td>NaN</td>\n",
       "    </tr>\n",
       "    <tr>\n",
       "      <th>54909</th>\n",
       "      <td>3306381960</td>\n",
       "      <td>Female</td>\n",
       "      <td>30-44</td>\n",
       "      <td>NaN</td>\n",
       "      <td>High school degree</td>\n",
       "      <td>Intermediate</td>\n",
       "      <td>Some</td>\n",
       "      <td>East North Central</td>\n",
       "      <td>Ireland</td>\n",
       "      <td>4</td>\n",
       "    </tr>\n",
       "    <tr>\n",
       "      <th>54910</th>\n",
       "      <td>3306381907</td>\n",
       "      <td>Female</td>\n",
       "      <td>&gt; 60</td>\n",
       "      <td>$150,000+</td>\n",
       "      <td>Graduate degree</td>\n",
       "      <td>Intermediate</td>\n",
       "      <td>Some</td>\n",
       "      <td>East North Central</td>\n",
       "      <td>Ireland</td>\n",
       "      <td>3</td>\n",
       "    </tr>\n",
       "    <tr>\n",
       "      <th>54911</th>\n",
       "      <td>3306381357</td>\n",
       "      <td>Male</td>\n",
       "      <td>30-44</td>\n",
       "      <td>$150,000+</td>\n",
       "      <td>Bachelor degree</td>\n",
       "      <td>Advanced</td>\n",
       "      <td>A lot</td>\n",
       "      <td>South Atlantic</td>\n",
       "      <td>Ireland</td>\n",
       "      <td>4</td>\n",
       "    </tr>\n",
       "    <tr>\n",
       "      <th>54912</th>\n",
       "      <td>3306380720</td>\n",
       "      <td>Female</td>\n",
       "      <td>30-44</td>\n",
       "      <td>NaN</td>\n",
       "      <td>Some college or Associate degree</td>\n",
       "      <td>Advanced</td>\n",
       "      <td>A lot</td>\n",
       "      <td>Mountain</td>\n",
       "      <td>Ireland</td>\n",
       "      <td>3</td>\n",
       "    </tr>\n",
       "    <tr>\n",
       "      <th>54913</th>\n",
       "      <td>3306380498</td>\n",
       "      <td>Female</td>\n",
       "      <td>45-60</td>\n",
       "      <td>$25,000 - $49,999</td>\n",
       "      <td>Bachelor degree</td>\n",
       "      <td>Novice</td>\n",
       "      <td>Some</td>\n",
       "      <td>East South Central</td>\n",
       "      <td>Ireland</td>\n",
       "      <td>4</td>\n",
       "    </tr>\n",
       "    <tr>\n",
       "      <th>54914</th>\n",
       "      <td>3306379785</td>\n",
       "      <td>NaN</td>\n",
       "      <td>NaN</td>\n",
       "      <td>NaN</td>\n",
       "      <td>NaN</td>\n",
       "      <td>Advanced</td>\n",
       "      <td>A lot</td>\n",
       "      <td>NaN</td>\n",
       "      <td>Ireland</td>\n",
       "      <td>NaN</td>\n",
       "    </tr>\n",
       "    <tr>\n",
       "      <th>54915</th>\n",
       "      <td>3306379723</td>\n",
       "      <td>Male</td>\n",
       "      <td>&gt; 60</td>\n",
       "      <td>NaN</td>\n",
       "      <td>Some college or Associate degree</td>\n",
       "      <td>Intermediate</td>\n",
       "      <td>Some</td>\n",
       "      <td>East South Central</td>\n",
       "      <td>Ireland</td>\n",
       "      <td>4</td>\n",
       "    </tr>\n",
       "    <tr>\n",
       "      <th>54916</th>\n",
       "      <td>3306379436</td>\n",
       "      <td>Male</td>\n",
       "      <td>&gt; 60</td>\n",
       "      <td>$150,000+</td>\n",
       "      <td>Graduate degree</td>\n",
       "      <td>Intermediate</td>\n",
       "      <td>Some</td>\n",
       "      <td>West South Central</td>\n",
       "      <td>Ireland</td>\n",
       "      <td>3</td>\n",
       "    </tr>\n",
       "    <tr>\n",
       "      <th>54917</th>\n",
       "      <td>3306379007</td>\n",
       "      <td>Female</td>\n",
       "      <td>&gt; 60</td>\n",
       "      <td>NaN</td>\n",
       "      <td>Bachelor degree</td>\n",
       "      <td>Novice</td>\n",
       "      <td>Not much�</td>\n",
       "      <td>South Atlantic</td>\n",
       "      <td>Ireland</td>\n",
       "      <td>NaN</td>\n",
       "    </tr>\n",
       "    <tr>\n",
       "      <th>54918</th>\n",
       "      <td>3306378639</td>\n",
       "      <td>Female</td>\n",
       "      <td>45-60</td>\n",
       "      <td>$100,000 - $149,999</td>\n",
       "      <td>Bachelor degree</td>\n",
       "      <td>Intermediate</td>\n",
       "      <td>A lot</td>\n",
       "      <td>Pacific</td>\n",
       "      <td>Ireland</td>\n",
       "      <td>4</td>\n",
       "    </tr>\n",
       "    <tr>\n",
       "      <th>54919</th>\n",
       "      <td>3306377493</td>\n",
       "      <td>Female</td>\n",
       "      <td>45-60</td>\n",
       "      <td>NaN</td>\n",
       "      <td>Some college or Associate degree</td>\n",
       "      <td>Novice</td>\n",
       "      <td>Not much�</td>\n",
       "      <td>East North Central</td>\n",
       "      <td>Ireland</td>\n",
       "      <td>3</td>\n",
       "    </tr>\n",
       "  </tbody>\n",
       "</table>\n",
       "<p>54920 rows × 10 columns</p>\n",
       "</div>"
      ],
      "text/plain": [
       "       RespondentID  Gender    Age     Household Income  \\\n",
       "0        3308895255    Male  18-29  $100,000 - $149,999   \n",
       "1        3308891308    Male  18-29  $100,000 - $149,999   \n",
       "2        3308891135    Male  30-44    $50,000 - $99,999   \n",
       "3        3308879091    Male  45-60         $0 - $24,999   \n",
       "4        3308871671    Male  30-44    $25,000 - $49,999   \n",
       "5        3308871406  Female  30-44    $50,000 - $99,999   \n",
       "6        3308866182    Male  45-60                  NaN   \n",
       "7        3308857114    Male  45-60         $0 - $24,999   \n",
       "8        3308856510  Female  30-44    $50,000 - $99,999   \n",
       "9        3308846915     NaN    NaN                  NaN   \n",
       "10       3308845993    Male  30-44    $50,000 - $99,999   \n",
       "11       3308837085    Male   > 60         $0 - $24,999   \n",
       "12       3308834022    Male  18-29    $25,000 - $49,999   \n",
       "13       3308832927  Female  30-44                  NaN   \n",
       "14       3308823251  Female  30-44    $50,000 - $99,999   \n",
       "15       3308819174  Female  30-44    $25,000 - $49,999   \n",
       "16       3308816847    Male  30-44    $50,000 - $99,999   \n",
       "17       3308816305     NaN    NaN                  NaN   \n",
       "18       3308815266    Male   > 60         $0 - $24,999   \n",
       "19       3308813105    Male  45-60                  NaN   \n",
       "20       3308809158    Male  18-29         $0 - $24,999   \n",
       "21       3308805258    Male  18-29         $0 - $24,999   \n",
       "22       3308804182     NaN    NaN                  NaN   \n",
       "23       3308800049    Male  30-44    $25,000 - $49,999   \n",
       "24       3308799446    Male  18-29            $150,000+   \n",
       "25       3308793678    Male   > 60  $100,000 - $149,999   \n",
       "26       3308792170     NaN    NaN                  NaN   \n",
       "27       3308784370    Male  30-44    $50,000 - $99,999   \n",
       "28       3308779771    Male   > 60    $50,000 - $99,999   \n",
       "29       3308777531  Female  30-44    $50,000 - $99,999   \n",
       "...             ...     ...    ...                  ...   \n",
       "54890    3306385232  Female  30-44    $25,000 - $49,999   \n",
       "54891    3306385197     NaN    NaN                  NaN   \n",
       "54892    3306384984    Male  18-29    $50,000 - $99,999   \n",
       "54893    3306384930  Female   > 60  $100,000 - $149,999   \n",
       "54894    3306384923    Male  45-60                  NaN   \n",
       "54895    3306384858  Female  18-29         $0 - $24,999   \n",
       "54896    3306384671     NaN    NaN                  NaN   \n",
       "54897    3306384591  Female  18-29    $50,000 - $99,999   \n",
       "54898    3306384228  Female   > 60                  NaN   \n",
       "54899    3306383424     NaN    NaN                  NaN   \n",
       "54900    3306383416  Female   > 60    $50,000 - $99,999   \n",
       "54901    3306383076  Female  18-29    $25,000 - $49,999   \n",
       "54902    3306382754  Female   > 60    $50,000 - $99,999   \n",
       "54903    3306382498    Male   > 60            $150,000+   \n",
       "54904    3306382433  Female  45-60                  NaN   \n",
       "54905    3306382319    Male  30-44    $50,000 - $99,999   \n",
       "54906    3306382284  Female  45-60  $100,000 - $149,999   \n",
       "54907    3306382152  Female  45-60         $0 - $24,999   \n",
       "54908    3306381961     NaN    NaN                  NaN   \n",
       "54909    3306381960  Female  30-44                  NaN   \n",
       "54910    3306381907  Female   > 60            $150,000+   \n",
       "54911    3306381357    Male  30-44            $150,000+   \n",
       "54912    3306380720  Female  30-44                  NaN   \n",
       "54913    3306380498  Female  45-60    $25,000 - $49,999   \n",
       "54914    3306379785     NaN    NaN                  NaN   \n",
       "54915    3306379723    Male   > 60                  NaN   \n",
       "54916    3306379436    Male   > 60            $150,000+   \n",
       "54917    3306379007  Female   > 60                  NaN   \n",
       "54918    3306378639  Female  45-60  $100,000 - $149,999   \n",
       "54919    3306377493  Female  45-60                  NaN   \n",
       "\n",
       "                              Education     Knowledge     Interest  \\\n",
       "0          Less than high school degree  Intermediate         Some   \n",
       "1      Some college or Associate degree        Novice         Some   \n",
       "2                       Graduate degree  Intermediate        A lot   \n",
       "3          Less than high school degree        Novice    Not much�   \n",
       "4                    High school degree        Novice    Not much�   \n",
       "5                       Graduate degree      Advanced        A lot   \n",
       "6                    High school degree        Novice         Some   \n",
       "7      Some college or Associate degree      Advanced        A lot   \n",
       "8      Some college or Associate degree        Novice    Not much�   \n",
       "9                                   NaN        Novice         Some   \n",
       "10                      Bachelor degree      Advanced        A lot   \n",
       "11     Some college or Associate degree        Novice         Some   \n",
       "12                   High school degree  Intermediate        A lot   \n",
       "13                      Bachelor degree  Intermediate         Some   \n",
       "14                      Graduate degree  Intermediate         Some   \n",
       "15     Some college or Associate degree  Intermediate         Some   \n",
       "16     Some college or Associate degree        Novice  Not at all�   \n",
       "17                                  NaN        Novice    Not much�   \n",
       "18     Some college or Associate degree        Novice    Not much�   \n",
       "19     Some college or Associate degree        Novice         Some   \n",
       "20                      Bachelor degree  Intermediate        A lot   \n",
       "21     Some college or Associate degree        Novice         Some   \n",
       "22                                  NaN  Intermediate    Not much�   \n",
       "23     Some college or Associate degree        Novice         Some   \n",
       "24     Some college or Associate degree        Novice  Not at all�   \n",
       "25                      Graduate degree  Intermediate         Some   \n",
       "26                                  NaN  Intermediate    Not much�   \n",
       "27     Some college or Associate degree  Intermediate        A lot   \n",
       "28                      Graduate degree  Intermediate         Some   \n",
       "29                      Graduate degree  Intermediate         Some   \n",
       "...                                 ...           ...          ...   \n",
       "54890                   Bachelor degree        Novice         Some   \n",
       "54891                               NaN        Novice         Some   \n",
       "54892  Some college or Associate degree  Intermediate         Some   \n",
       "54893                   Bachelor degree        Novice         Some   \n",
       "54894                   Graduate degree        Novice         Some   \n",
       "54895                   Graduate degree  Intermediate         Some   \n",
       "54896                               NaN  Intermediate         Some   \n",
       "54897                High school degree  Intermediate         Some   \n",
       "54898                   Graduate degree  Intermediate         Some   \n",
       "54899                               NaN      Advanced        A lot   \n",
       "54900                   Graduate degree  Intermediate         Some   \n",
       "54901                   Graduate degree  Intermediate    Not much�   \n",
       "54902                   Bachelor degree        Novice  Not at all�   \n",
       "54903                   Graduate degree      Advanced        A lot   \n",
       "54904                   Bachelor degree        Novice         Some   \n",
       "54905  Some college or Associate degree        Novice         Some   \n",
       "54906                   Bachelor degree        Novice         Some   \n",
       "54907  Some college or Associate degree        Novice    Not much�   \n",
       "54908                               NaN      Advanced        A lot   \n",
       "54909                High school degree  Intermediate         Some   \n",
       "54910                   Graduate degree  Intermediate         Some   \n",
       "54911                   Bachelor degree      Advanced        A lot   \n",
       "54912  Some college or Associate degree      Advanced        A lot   \n",
       "54913                   Bachelor degree        Novice         Some   \n",
       "54914                               NaN      Advanced        A lot   \n",
       "54915  Some college or Associate degree  Intermediate         Some   \n",
       "54916                   Graduate degree  Intermediate         Some   \n",
       "54917                   Bachelor degree        Novice    Not much�   \n",
       "54918                   Bachelor degree  Intermediate        A lot   \n",
       "54919  Some college or Associate degree        Novice    Not much�   \n",
       "\n",
       "                 Location      cty  value  \n",
       "0      West South Central  Algeria    NaN  \n",
       "1      West South Central  Algeria    NaN  \n",
       "2                 Pacific  Algeria      3  \n",
       "3             New England  Algeria    NaN  \n",
       "4                 Pacific  Algeria    NaN  \n",
       "5      East North Central  Algeria    NaN  \n",
       "6      West South Central  Algeria    NaN  \n",
       "7          South Atlantic  Algeria    NaN  \n",
       "8          South Atlantic  Algeria    NaN  \n",
       "9                     NaN  Algeria    NaN  \n",
       "10               Mountain  Algeria    NaN  \n",
       "11         South Atlantic  Algeria    NaN  \n",
       "12        Middle Atlantic  Algeria      3  \n",
       "13        Middle Atlantic  Algeria    NaN  \n",
       "14                Pacific  Algeria    NaN  \n",
       "15                Pacific  Algeria    NaN  \n",
       "16                Pacific  Algeria    NaN  \n",
       "17                    NaN  Algeria    NaN  \n",
       "18        Middle Atlantic  Algeria    NaN  \n",
       "19               Mountain  Algeria    NaN  \n",
       "20     East North Central  Algeria      4  \n",
       "21               Mountain  Algeria    NaN  \n",
       "22                    NaN  Algeria    NaN  \n",
       "23     East South Central  Algeria    NaN  \n",
       "24     West North Central  Algeria    NaN  \n",
       "25     East North Central  Algeria    NaN  \n",
       "26                    NaN  Algeria    NaN  \n",
       "27               Mountain  Algeria      3  \n",
       "28            New England  Algeria    NaN  \n",
       "29         South Atlantic  Algeria    NaN  \n",
       "...                   ...      ...    ...  \n",
       "54890  West North Central  Ireland      3  \n",
       "54891                 NaN  Ireland    NaN  \n",
       "54892  West South Central  Ireland      5  \n",
       "54893  East North Central  Ireland      3  \n",
       "54894  East South Central  Ireland      3  \n",
       "54895         New England  Ireland      2  \n",
       "54896                 NaN  Ireland    NaN  \n",
       "54897  East North Central  Ireland      3  \n",
       "54898  East North Central  Ireland      4  \n",
       "54899                 NaN  Ireland    NaN  \n",
       "54900  East South Central  Ireland      3  \n",
       "54901             Pacific  Ireland      3  \n",
       "54902  West South Central  Ireland      1  \n",
       "54903      South Atlantic  Ireland      3  \n",
       "54904  West South Central  Ireland    NaN  \n",
       "54905            Mountain  Ireland      3  \n",
       "54906  East North Central  Ireland      3  \n",
       "54907      South Atlantic  Ireland      2  \n",
       "54908                 NaN  Ireland    NaN  \n",
       "54909  East North Central  Ireland      4  \n",
       "54910  East North Central  Ireland      3  \n",
       "54911      South Atlantic  Ireland      4  \n",
       "54912            Mountain  Ireland      3  \n",
       "54913  East South Central  Ireland      4  \n",
       "54914                 NaN  Ireland    NaN  \n",
       "54915  East South Central  Ireland      4  \n",
       "54916  West South Central  Ireland      3  \n",
       "54917      South Atlantic  Ireland    NaN  \n",
       "54918             Pacific  Ireland      4  \n",
       "54919  East North Central  Ireland      3  \n",
       "\n",
       "[54920 rows x 10 columns]"
      ]
     },
     "execution_count": 4,
     "metadata": {},
     "output_type": "execute_result"
    }
   ],
   "source": [
    "country1=pd.melt(country,id_vars=['RespondentID','Gender','Age','Household Income','Education',\n",
    "'Knowledge',\"Interest\",'Location'],var_name='cty')\n",
    "country1=pd.DataFrame(country1)\n",
    "country1\n",
    "country1[country1.cty.notnull()]\n",
    "v=country1['cty']\n",
    "v = v.where(v.str.startswith('P')).str.split().str[-1].str.strip('.')\n",
    "v=v.str.strip(':')\n",
    "country1['cty']=v\n",
    "country1\n"
   ]
  },
  {
   "cell_type": "markdown",
   "metadata": {},
   "source": [
    "# **countries rated highest most times**"
   ]
  },
  {
   "cell_type": "code",
   "execution_count": 5,
   "metadata": {
    "collapsed": false
   },
   "outputs": [
    {
     "data": {
      "text/plain": [
       "Italy       607\n",
       "States      404\n",
       "Mexico      366\n",
       "France      265\n",
       "Thailand    242\n",
       "Japan       236\n",
       "China       226\n",
       "Greece      223\n",
       "India       216\n",
       "Spain       166\n",
       "dtype: int64"
      ]
     },
     "execution_count": 5,
     "metadata": {},
     "output_type": "execute_result"
    }
   ],
   "source": [
    "maxi=country1[country1.value==5]\n",
    "maxi.cty.value_counts().head(10)"
   ]
  },
  {
   "cell_type": "code",
   "execution_count": 8,
   "metadata": {
    "collapsed": false
   },
   "outputs": [
    {
     "data": {
      "text/plain": [
       "<matplotlib.axes._subplots.AxesSubplot at 0xdb1f5f8>"
      ]
     },
     "execution_count": 8,
     "metadata": {},
     "output_type": "execute_result"
    },
    {
     "data": {
      "image/png": "[encoded data removed]",
      "text/plain": [
       "<matplotlib.figure.Figure at 0xd5bc438>"
      ]
     },
     "metadata": {},
     "output_type": "display_data"
    }
   ],
   "source": [
    "m = maxi\n",
    "m.groupby(m.cty).size().plot(kind='bar')"
   ]
  },
  {
   "cell_type": "markdown",
   "metadata": {},
   "source": [
    "# **most tasted cuisines**"
   ]
  },
  {
   "cell_type": "code",
   "execution_count": 9,
   "metadata": {
    "collapsed": false
   },
   "outputs": [
    {
     "data": {
      "text/plain": [
       "States     1253\n",
       "Mexico     1222\n",
       "Italy      1197\n",
       "China      1158\n",
       "Japan      1066\n",
       "England    1054\n",
       "France     1046\n",
       "Germany    1034\n",
       "India      1028\n",
       "Greece     1017\n",
       "dtype: int64"
      ]
     },
     "execution_count": 9,
     "metadata": {},
     "output_type": "execute_result"
    }
   ],
   "source": [
    "tried=country1[country1.value.notnull()]\n",
    "tried.cty.value_counts().head(10)"
   ]
  },
  {
   "cell_type": "code",
   "execution_count": null,
   "metadata": {
    "collapsed": false
   },
   "outputs": [],
   "source": []
  },
  {
   "cell_type": "code",
   "execution_count": null,
   "metadata": {
    "collapsed": false
   },
   "outputs": [],
   "source": []
  },
  {
   "cell_type": "markdown",
   "metadata": {
    "collapsed": false
   },
   "source": [
    "\n"
   ]
  },
  {
   "cell_type": "code",
   "execution_count": 11,
   "metadata": {
    "collapsed": false
   },
   "outputs": [
    {
     "name": "stdout",
     "output_type": "stream",
     "text": [
      "education vs avg knowledge\n"
     ]
    },
    {
     "data": {
      "image/png": "[encoded data removed]",
      "text/plain": [
       "<matplotlib.figure.Figure at 0xe012f98>"
      ]
     },
     "metadata": {},
     "output_type": "display_data"
    }
   ],
   "source": [
    "c=country1\n",
    "c['knw'] = 1\n",
    "c['knw'][c['Knowledge'] == 'Novice'] = 1\n",
    "c['knw'][c['Knowledge'] == 'Intermediate'] = 2\n",
    "c['knw'][c['Knowledge'] == 'Advanced'] = 3\n",
    "c['knw'][c['Knowledge'] == 'Expert'] = 4\n",
    "c1=pd.DataFrame({'ind' : c.groupby( [ \"Education\", \"knw\"] ).size()}).reset_index()\n",
    "c2=pd.DataFrame({'tot' : c.groupby( [ \"Education\"] ).size()}).reset_index()\n",
    "c2\n",
    "c3=pd.merge(c1,c2 ,how='left')\n",
    "c3['wt']=(c3.ind/c3.tot)\n",
    "c3['avgknw']=(c3.knw)*(c3.wt)\n",
    "c3=pd.DataFrame({'avgknw': c3.groupby(by=['Education'])['avgknw'].sum()}).reset_index()\n",
    "c3.plot(x='Education',y='avgknw',kind='bar')\n",
    "\n",
    "print\"education vs avg nowledge\""
   ]
  },
  {
   "cell_type": "code",
   "execution_count": null,
   "metadata": {
    "collapsed": true
   },
   "outputs": [],
   "source": []
  },
  {
   "cell_type": "code",
   "execution_count": 12,
   "metadata": {
    "collapsed": false
   },
   "outputs": [
    {
     "name": "stdout",
     "output_type": "stream",
     "text": [
      "Knowledge in cuisine by Age\n"
     ]
    },
    {
     "data": {
      "image/png": "[encoded data removed]",
      "text/plain": [
       "<matplotlib.figure.Figure at 0xda97ef0>"
      ]
     },
     "metadata": {},
     "output_type": "display_data"
    }
   ],
   "source": [
    "c=country1\n",
    "c['knw'] = 1\n",
    "c['knw'][c['Knowledge'] == 'Novice'] = 1\n",
    "c['knw'][c['Knowledge'] == 'Intermediate'] = 2\n",
    "c['knw'][c['Knowledge'] == 'Advanced'] = 3\n",
    "c['knw'][c['Knowledge'] == 'Expert'] = 4\n",
    "c1=pd.DataFrame({'ind' : c.groupby( [ \"Age\", \"knw\"] ).size()}).reset_index()\n",
    "c2=pd.DataFrame({'tot' : c.groupby( [ \"Age\"] ).size()}).reset_index()\n",
    "c2\n",
    "c3=pd.merge(c1,c2 ,how='left')\n",
    "c3['wt']=(c3.ind/c3.tot)\n",
    "c3['avgknw']=(c3.knw)*(c3.wt)\n",
    "c3=pd.DataFrame({'avgknw': c3.groupby(by=['Age'])['avgknw'].sum()}).reset_index()\n",
    "c3.plot(x='Age',y='avgknw',kind='bar')\n",
    "print 'Knowledge in cuisine by Age'"
   ]
  },
  {
   "cell_type": "code",
   "execution_count": 13,
   "metadata": {
    "collapsed": false
   },
   "outputs": [
    {
     "name": "stdout",
     "output_type": "stream",
     "text": [
      "Knowledge vs Interest\n"
     ]
    },
    {
     "data": {
      "image/png": "[encoded data removed]",
      "text/plain": [
       "<matplotlib.figure.Figure at 0xb6b0f60>"
      ]
     },
     "metadata": {},
     "output_type": "display_data"
    }
   ],
   "source": [
    "c=country1\n",
    "c['knw'] = 1\n",
    "c['knw'][c['Knowledge'] == 'Novice'] = 1\n",
    "c['knw'][c['Knowledge'] == 'Intermediate'] = 2\n",
    "c['knw'][c['Knowledge'] == 'Advanced'] = 3\n",
    "c['knw'][c['Knowledge'] == 'Expert'] = 4\n",
    "c1=pd.DataFrame({'ind' : c.groupby( [ \"Interest\", \"knw\"] ).size()}).reset_index()\n",
    "c2=pd.DataFrame({'tot' : c.groupby( [ \"Interest\"] ).size()}).reset_index()\n",
    "c2\n",
    "c3=pd.merge(c1,c2 ,how='left')\n",
    "c3['wt']=(c3.ind/c3.tot)\n",
    "c3['avgknw']=(c3.knw)*(c3.wt)\n",
    "c3=pd.DataFrame({'avgknw': c3.groupby(by=['Interest'])['avgknw'].sum()}).reset_index()\n",
    "c3.plot(x='Interest',y='avgknw',kind='bar')\n",
    "print 'Knowledge vs Interest'"
   ]
  },
  {
   "cell_type": "code",
   "execution_count": 14,
   "metadata": {
    "collapsed": false
   },
   "outputs": [
    {
     "name": "stdout",
     "output_type": "stream",
     "text": [
      "Income va Knowledge\n"
     ]
    },
    {
     "data": {
      "image/png": "[encoded data removed]",
      "text/plain": [
       "<matplotlib.figure.Figure at 0xcc62208>"
      ]
     },
     "metadata": {},
     "output_type": "display_data"
    }
   ],
   "source": [
    "c=country1\n",
    "c['knw'] = 1\n",
    "c['knw'][c['Knowledge'] == 'Novice'] = 1\n",
    "c['knw'][c['Knowledge'] == 'Intermediate'] = 2\n",
    "c['knw'][c['Knowledge'] == 'Advanced'] = 3\n",
    "c['knw'][c['Knowledge'] == 'Expert'] = 4\n",
    "c1=pd.DataFrame({'ind' : c.groupby( [ \"Household Income\", \"knw\"] ).size()}).reset_index()\n",
    "c2=pd.DataFrame({'tot' : c.groupby( [ \"Household Income\"] ).size()}).reset_index()\n",
    "c2\n",
    "c3=pd.merge(c1,c2 ,how='left')\n",
    "c3['wt']=(c3.ind/c3.tot)\n",
    "c3['avg']=(c3.knw)*(c3.wt)\n",
    "c3=pd.DataFrame({'avg': c3.groupby(by=['Household Income'])['avg'].sum()}).reset_index()\n",
    "\n",
    "c3.plot(x='Household Income',y='avg',kind='bar')\n",
    "print 'Income va Knowledge'"
   ]
  },
  {
   "cell_type": "code",
   "execution_count": 15,
   "metadata": {
    "collapsed": false
   },
   "outputs": [
    {
     "name": "stdout",
     "output_type": "stream",
     "text": [
      "Age vs Interest\n"
     ]
    },
    {
     "data": {
      "image/png": "[encoded data removed]",
      "text/plain": [
       "<matplotlib.figure.Figure at 0xdf85ac8>"
      ]
     },
     "metadata": {},
     "output_type": "display_data"
    }
   ],
   "source": [
    "c=country1\n",
    "c['int'] = 1\n",
    "c['int'][c['Interest'] == 'Not at all'] = 1\n",
    "c['int'][c['Interest'] == 'Not much'] = 2\n",
    "c['int'][c['Interest'] == 'Some'] = 3\n",
    "c['int'][c['Interest'] == 'A lot'] = 4\n",
    "c1=pd.DataFrame({'ind' : c.groupby( [ \"Age\", \"int\"] ).size()}).reset_index()\n",
    "c2=pd.DataFrame({'tot' : c.groupby( [ \"Age\"] ).size()}).reset_index()\n",
    "c2\n",
    "c3=pd.merge(c1,c2 ,how='left')\n",
    "c3['wt']=(c3.ind/c3.tot)\n",
    "c3['avgint']=(c3.int)*(c3.wt)\n",
    "c3=pd.DataFrame({'avgint': c3.groupby(by=['Age'])['avgint'].sum()}).reset_index()\n",
    "c3.plot(x='Age',y='avgint',kind='bar')\n",
    "print 'Age vs Interest'"
   ]
  },
  {
   "cell_type": "code",
   "execution_count": 17,
   "metadata": {
    "collapsed": false
   },
   "outputs": [
    {
     "name": "stdout",
     "output_type": "stream",
     "text": [
      "Cuisine preference in Graduates\n"
     ]
    },
    {
     "data": {
      "image/png": "[encoded data removed]",
      "text/plain": [
       "<matplotlib.figure.Figure at 0xb618da0>"
      ]
     },
     "metadata": {},
     "output_type": "display_data"
    }
   ],
   "source": [
    "c=country1[(country1.value>=1) & (country1.Education=='Graduate degree')]\n",
    "c1=pd.DataFrame({'ind' : c.groupby( [ \"cty\", \"value\"] ).size()}).reset_index()\n",
    "c2=pd.DataFrame({'tot' : c.groupby( [ \"cty\"] ).size()}).reset_index()\n",
    "c3=pd.merge(c1,c2 ,how='left')\n",
    "c3['wt']=(c3.ind/c3.tot)\n",
    "c3['avg']=(c3.value)*(c3.wt)\n",
    "c3=pd.DataFrame({'avg': c3.groupby(by=['cty'])['avg'].sum()}).reset_index()\n",
    "c3=c3.sort(['avg'], ascending=False).head()\n",
    "c3.plot(x='cty',y='avg',kind='bar')\n",
    "print 'Cuisine preference in Graduates'"
   ]
  },
  {
   "cell_type": "code",
   "execution_count": 18,
   "metadata": {
    "collapsed": false
   },
   "outputs": [
    {
     "name": "stdout",
     "output_type": "stream",
     "text": [
      "Cuisine preference in ages 18-29\n"
     ]
    },
    {
     "data": {
      "image/png": "[encoded data removed]",
      "text/plain": [
       "<matplotlib.figure.Figure at 0xdcd2c88>"
      ]
     },
     "metadata": {},
     "output_type": "display_data"
    }
   ],
   "source": [
    "c=country1[(country1.value>=1) & (country1.Age=='18-29')]\n",
    "c1=pd.DataFrame({'ind' : c.groupby( [ \"cty\", \"value\"] ).size()}).reset_index()\n",
    "c2=pd.DataFrame({'tot' : c.groupby( [ \"cty\"] ).size()}).reset_index()\n",
    "c3=pd.merge(c1,c2 ,how='left')\n",
    "c3['wt']=(c3.ind/c3.tot)\n",
    "c3['avg']=(c3.value)*(c3.wt)\n",
    "c3=pd.DataFrame({'avg': c3.groupby(by=['cty'])['avg'].sum()}).reset_index()\n",
    "c3=c3.sort(['avg'], ascending=False).head(10)\n",
    "c3.plot(x='cty',y='avg',kind='bar')\n",
    "print 'Cuisine preference in ages 18-29'"
   ]
  },
  {
   "cell_type": "code",
   "execution_count": 19,
   "metadata": {
    "collapsed": false
   },
   "outputs": [
    {
     "name": "stdout",
     "output_type": "stream",
     "text": [
      "Cuisine preference for people with Advanced or Expert knowledge\n"
     ]
    },
    {
     "data": {
      "image/png": "[encoded data removed]",
      "text/plain": [
       "<matplotlib.figure.Figure at 0xce91f60>"
      ]
     },
     "metadata": {},
     "output_type": "display_data"
    }
   ],
   "source": [
    "c=country1[(country1.value>=1) & ((country1.Knowledge=='Advanced')| (country1.Knowledge=='Expert'))]\n",
    "c1=pd.DataFrame({'ind' : c.groupby( [ \"cty\", \"value\"] ).size()}).reset_index()\n",
    "c2=pd.DataFrame({'tot' : c.groupby( [ \"cty\"] ).size()}).reset_index()\n",
    "c3=pd.merge(c1,c2 ,how='left')\n",
    "c3['wt']=(c3.ind/c3.tot)\n",
    "c3['avg']=(c3.value)*(c3.wt)\n",
    "c3=pd.DataFrame({'avg': c3.groupby(by=['cty'])['avg'].sum()}).reset_index()\n",
    "c3=c3.sort(['avg'], ascending=False).head()\n",
    "c3.plot(x='cty',y='avg',kind='bar')\n",
    "print 'Cuisine preference for people with Advanced or Expert knowledge'"
   ]
  },
  {
   "cell_type": "code",
   "execution_count": 20,
   "metadata": {
    "collapsed": false
   },
   "outputs": [
    {
     "name": "stdout",
     "output_type": "stream",
     "text": [
      "cuisine rating for people with Novice Knowledge\n"
     ]
    },
    {
     "data": {
      "image/png": "[encoded data removed]",
      "text/plain": [
       "<matplotlib.figure.Figure at 0xdc050f0>"
      ]
     },
     "metadata": {},
     "output_type": "display_data"
    }
   ],
   "source": [
    "c=country1[(country1.value>=1) & (country1.Knowledge=='Novice')]\n",
    "c1=pd.DataFrame({'ind' : c.groupby( [ \"cty\", \"value\"] ).size()}).reset_index()\n",
    "c2=pd.DataFrame({'tot' : c.groupby( [ \"cty\"] ).size()}).reset_index()\n",
    "c3=pd.merge(c1,c2 ,how='left')\n",
    "c3['wt']=(c3.ind/c3.tot)\n",
    "c3['avg']=(c3.value)*(c3.wt)\n",
    "c3=pd.DataFrame({'avg': c3.groupby(by=['cty'])['avg'].sum()}).reset_index()\n",
    "c3=c3.sort(['avg'], ascending=False).head()\n",
    "c3.plot(x='cty',kind='bar')\n",
    "print 'cuisine rating for people with Novice Knowledge'"
   ]
  },
  {
   "cell_type": "code",
   "execution_count": 21,
   "metadata": {
    "collapsed": false
   },
   "outputs": [
    {
     "name": "stdout",
     "output_type": "stream",
     "text": [
      "agewise preference for indian food\n"
     ]
    },
    {
     "data": {
      "image/png": "[encoded data removed]",
      "text/plain": [
       "<matplotlib.figure.Figure at 0xe429cf8>"
      ]
     },
     "metadata": {},
     "output_type": "display_data"
    }
   ],
   "source": [
    "c=country1[(country1.value>=1)& (country1.cty=='India')]\n",
    "c1=pd.DataFrame({'ind' : c.groupby( [ \"Age\", \"value\"] ).size()}).reset_index()\n",
    "c2=pd.DataFrame({'tot' : c.groupby( [ \"Age\"] ).size()}).reset_index()\n",
    "c3=pd.merge(c1,c2 ,how='left')\n",
    "c3['wt']=(c3.ind/c3.tot)\n",
    "c3['avg']=(c3.value)*(c3.wt)\n",
    "c3=pd.DataFrame({'avg': c3.groupby(by=['Age'])['avg'].sum()}).reset_index()\n",
    "\n",
    "c3.plot(x='Age')\n",
    "print 'agewise preference for indian food'\n"
   ]
  },
  {
   "cell_type": "code",
   "execution_count": 22,
   "metadata": {
    "collapsed": false
   },
   "outputs": [
    {
     "name": "stdout",
     "output_type": "stream",
     "text": [
      "agewise preference for indian food amoung males\n"
     ]
    },
    {
     "data": {
      "image/png": "[encoded data removed]",
      "text/plain": [
       "<matplotlib.figure.Figure at 0xe2a6080>"
      ]
     },
     "metadata": {},
     "output_type": "display_data"
    }
   ],
   "source": [
    "c=country1[(country1.value>=1)& (country1.cty=='India')&(country1.Gender=='Male')]\n",
    "c1=pd.DataFrame({'ind' : c.groupby( [ \"Age\", \"value\"] ).size()}).reset_index()\n",
    "c2=pd.DataFrame({'tot' : c.groupby( [ \"Age\"] ).size()}).reset_index()\n",
    "c3=pd.merge(c1,c2 ,how='left')\n",
    "c3['wt']=(c3.ind/c3.tot)\n",
    "c3['avg']=(c3.value)*(c3.wt)\n",
    "c3=pd.DataFrame({'avg': c3.groupby(by=['Age'])['avg'].sum()}).reset_index()\n",
    "\n",
    "c3.plot(x='Age')\n",
    "print 'agewise preference for indian food amoung males'"
   ]
  },
  {
   "cell_type": "code",
   "execution_count": 23,
   "metadata": {
    "collapsed": false
   },
   "outputs": [
    {
     "name": "stdout",
     "output_type": "stream",
     "text": [
      "agewise preference for indian food amoung females\n"
     ]
    },
    {
     "data": {
      "image/png": "[encoded data removed]",
      "text/plain": [
       "<matplotlib.figure.Figure at 0xe2882b0>"
      ]
     },
     "metadata": {},
     "output_type": "display_data"
    }
   ],
   "source": [
    "c=country1[(country1.value>=1)& (country1.cty=='India')&(country1.Gender=='Female')]\n",
    "c1=pd.DataFrame({'ind' : c.groupby( [ \"Age\", \"value\"] ).size()}).reset_index()\n",
    "c2=pd.DataFrame({'tot' : c.groupby( [ \"Age\"] ).size()}).reset_index()\n",
    "c3=pd.merge(c1,c2 ,how='left')\n",
    "c3['wt']=(c3.ind/c3.tot)\n",
    "c3['avg']=(c3.value)*(c3.wt)\n",
    "c3=pd.DataFrame({'avg': c3.groupby(by=['Age'])['avg'].sum()}).reset_index()\n",
    "\n",
    "c3.plot(x='Age')\n",
    "print 'agewise preference for indian food amoung females'"
   ]
  },
  {
   "cell_type": "code",
   "execution_count": null,
   "metadata": {
    "collapsed": false
   },
   "outputs": [],
   "source": []
  },
  {
   "cell_type": "code",
   "execution_count": 26,
   "metadata": {
    "collapsed": false
   },
   "outputs": [
    {
     "data": {
      "text/plain": [
       "<matplotlib.axes._subplots.AxesSubplot at 0x106f9128>"
      ]
     },
     "execution_count": 26,
     "metadata": {},
     "output_type": "execute_result"
    },
    {
     "data": {
      "image/png": "[encoded data removed]",
      "text/plain": [
       "<matplotlib.figure.Figure at 0x109c66a0>"
      ]
     },
     "metadata": {},
     "output_type": "display_data"
    }
   ],
   "source": [
    "c=country1[(country1.value>=1)& (country1.cty=='India')]\n",
    "c1=pd.DataFrame({'ind' : c.groupby( [ \"Location\", \"value\"] ).size()}).reset_index()\n",
    "c2=pd.DataFrame({'tot' : c.groupby( [ \"Location\"] ).size()}).reset_index()\n",
    "c3=pd.merge(c1,c2 ,how='left')\n",
    "c3['wt']=(c3.ind/c3.tot)\n",
    "c3['avg']=(c3.value)*(c3.wt)\n",
    "c3=pd.DataFrame({'avg': c3.groupby(by=['Location'])['avg'].sum()}).reset_index()\n",
    "\n",
    "c3.plot(x='Location',kind='bar')"
   ]
  },
  {
   "cell_type": "code",
   "execution_count": 24,
   "metadata": {
    "collapsed": false
   },
   "outputs": [
    {
     "data": {
      "text/plain": [
       "<matplotlib.axes._subplots.AxesSubplot at 0xce6b710>"
      ]
     },
     "execution_count": 24,
     "metadata": {},
     "output_type": "execute_result"
    },
    {
     "data": {
      "image/png": "[encoded data removed]",
      "text/plain": [
       "<matplotlib.figure.Figure at 0xe228630>"
      ]
     },
     "metadata": {},
     "output_type": "display_data"
    }
   ],
   "source": [
    "loc=country1.Location.value_counts()\n",
    "loc.plot(kind='bar')"
   ]
  },
  {
   "cell_type": "code",
   "execution_count": null,
   "metadata": {
    "collapsed": false
   },
   "outputs": [],
   "source": []
  },
  {
   "cell_type": "code",
   "execution_count": null,
   "metadata": {
    "collapsed": false
   },
   "outputs": [],
   "source": []
  },
  {
   "cell_type": "code",
   "execution_count": 27,
   "metadata": {
    "collapsed": false
   },
   "outputs": [
    {
     "name": "stdout",
     "output_type": "stream",
     "text": [
      "Average cuisine ratings\n"
     ]
    },
    {
     "data": {
      "image/png": "[encoded data removed]",
      "text/plain": [
       "<matplotlib.figure.Figure at 0x10724a58>"
      ]
     },
     "metadata": {},
     "output_type": "display_data"
    }
   ],
   "source": [
    "c=country1[country1.value>=1]\n",
    "c1=pd.DataFrame({'ind' : c.groupby( [ \"cty\", \"value\"] ).size()}).reset_index()\n",
    "c2=pd.DataFrame({'tot' : c.groupby( [ \"cty\"] ).size()}).reset_index()\n",
    "c3=pd.merge(c1,c2 ,how='left')\n",
    "c3['wt']=(c3.ind/c3.tot)\n",
    "c3['avg']=(c3.value)*(c3.wt)\n",
    "c3=pd.DataFrame({'avg': c3.groupby(by=['cty'])['avg'].sum()}).reset_index()\n",
    "c3=c3.sort(['avg'], ascending=False).head(20)\n",
    "c3.plot(x='cty',y='avg',kind='bar')\n",
    "print 'Average cuisine ratings'"
   ]
  },
  {
   "cell_type": "code",
   "execution_count": null,
   "metadata": {
    "collapsed": false
   },
   "outputs": [],
   "source": []
  },
  {
   "cell_type": "code",
   "execution_count": null,
   "metadata": {
    "collapsed": false
   },
   "outputs": [],
   "source": []
  },
  {
   "cell_type": "code",
   "execution_count": 28,
   "metadata": {
    "collapsed": false
   },
   "outputs": [
    {
     "name": "stdout",
     "output_type": "stream",
     "text": [
      "Cuisine preference in Pacific\n"
     ]
    },
    {
     "data": {
      "image/png": "[encoded data removed]",
      "text/plain": [
       "<matplotlib.figure.Figure at 0x106986d8>"
      ]
     },
     "metadata": {},
     "output_type": "display_data"
    }
   ],
   "source": [
    "c=country1[(country1.value>=1) & (country1.Location=='Pacific')]\n",
    "c1=pd.DataFrame({'ind' : c.groupby( [ \"cty\", \"value\"] ).size()}).reset_index()\n",
    "c2=pd.DataFrame({'tot' : c.groupby( [ \"cty\"] ).size()}).reset_index()\n",
    "c3=pd.merge(c1,c2 ,how='left')\n",
    "c3['wt']=(c3.ind/c3.tot)\n",
    "c3['avg']=(c3.value)*(c3.wt)\n",
    "c3=pd.DataFrame({'avg': c3.groupby(by=['cty'])['avg'].sum()}).reset_index()\n",
    "c3=c3.sort(['avg'], ascending=False).head(10)\n",
    "c3\n",
    "c3.plot(x='cty',y='avg',kind='bar')\n",
    "print 'Cuisine preference in Pacific'"
   ]
  },
  {
   "cell_type": "code",
   "execution_count": null,
   "metadata": {
    "collapsed": false
   },
   "outputs": [],
   "source": []
  },
  {
   "cell_type": "code",
   "execution_count": null,
   "metadata": {
    "collapsed": false
   },
   "outputs": [],
   "source": []
  },
  {
   "cell_type": "code",
   "execution_count": 29,
   "metadata": {
    "collapsed": false
   },
   "outputs": [
    {
     "name": "stdout",
     "output_type": "stream",
     "text": [
      "Cuisine preference in Pacific for males of ages 18-29\n"
     ]
    },
    {
     "data": {
      "image/png": "[encoded data removed]",
      "text/plain": [
       "<matplotlib.figure.Figure at 0xd383da0>"
      ]
     },
     "metadata": {},
     "output_type": "display_data"
    }
   ],
   "source": [
    "c=country1[(country1.value>=1) & (country1.Age=='18-29')& (country1.Location=='Pacific')& (country1.Gender=='Male')]\n",
    "c1=pd.DataFrame({'ind' : c.groupby( [ \"cty\", \"value\"] ).size()}).reset_index()\n",
    "c2=pd.DataFrame({'tot' : c.groupby( [ \"cty\"] ).size()}).reset_index()\n",
    "c3=pd.merge(c1,c2 ,how='left')\n",
    "c3['wt']=(c3.ind/c3.tot)\n",
    "c3['avg']=(c3.value)*(c3.wt)\n",
    "c3=pd.DataFrame({'avg': c3.groupby(by=['cty'])['avg'].sum()}).reset_index()\n",
    "c3=c3.sort(['avg'], ascending=False).head(10)\n",
    "c3.plot(x='cty',y='avg',kind='bar')\n",
    "print 'Cuisine preference in Pacific for males of ages 18-29'"
   ]
  },
  {
   "cell_type": "code",
   "execution_count": 30,
   "metadata": {
    "collapsed": false
   },
   "outputs": [
    {
     "name": "stdout",
     "output_type": "stream",
     "text": [
      "Cuisine preference in Pacific for people of ages 30-44\n"
     ]
    },
    {
     "data": {
      "image/png": "[encoded data removed]",
      "text/plain": [
       "<matplotlib.figure.Figure at 0x109b7588>"
      ]
     },
     "metadata": {},
     "output_type": "display_data"
    }
   ],
   "source": [
    "c=country1[(country1.value>=1) & (country1.Age=='30-44')& (country1.Location=='Pacific')]\n",
    "c1=pd.DataFrame({'ind' : c.groupby( [ \"cty\", \"value\"] ).size()}).reset_index()\n",
    "c2=pd.DataFrame({'tot' : c.groupby( [ \"cty\"] ).size()}).reset_index()\n",
    "c3=pd.merge(c1,c2 ,how='left')\n",
    "c3['wt']=(c3.ind/c3.tot)\n",
    "c3['avg']=(c3.value)*(c3.wt)\n",
    "c3=pd.DataFrame({'avg': c3.groupby(by=['cty'])['avg'].sum()}).reset_index()\n",
    "c3=c3.sort(['avg'], ascending=False).head(10)\n",
    "c3.plot(x='cty',y='avg',kind='bar')\n",
    "print 'Cuisine preference in Pacific for people of ages 30-44'"
   ]
  },
  {
   "cell_type": "code",
   "execution_count": 31,
   "metadata": {
    "collapsed": false
   },
   "outputs": [
    {
     "name": "stdout",
     "output_type": "stream",
     "text": [
      "Cuisine preference in Pacific for people of ages 45-60\n"
     ]
    },
    {
     "data": {
      "image/png": "[encoded data removed]",
      "text/plain": [
       "<matplotlib.figure.Figure at 0x104c36a0>"
      ]
     },
     "metadata": {},
     "output_type": "display_data"
    }
   ],
   "source": [
    "c=country1[(country1.value>=1) & (country1.Age=='45-60')& (country1.Location=='Pacific')]\n",
    "c1=pd.DataFrame({'ind' : c.groupby( [ \"cty\", \"value\"] ).size()}).reset_index()\n",
    "c2=pd.DataFrame({'tot' : c.groupby( [ \"cty\"] ).size()}).reset_index()\n",
    "c3=pd.merge(c1,c2 ,how='left')\n",
    "c3['wt']=(c3.ind/c3.tot)\n",
    "c3['avg']=(c3.value)*(c3.wt)\n",
    "c3=pd.DataFrame({'avg': c3.groupby(by=['cty'])['avg'].sum()}).reset_index()\n",
    "c3=c3.sort(['avg'], ascending=False).head(15)\n",
    "c3.plot(x='cty',y='avg',kind='bar')\n",
    "print 'Cuisine preference in Pacific for people of ages 45-60'"
   ]
  },
  {
   "cell_type": "code",
   "execution_count": 32,
   "metadata": {
    "collapsed": false
   },
   "outputs": [
    {
     "name": "stdout",
     "output_type": "stream",
     "text": [
      "Cuisine preference in Pacific for males of ages 30-44\n"
     ]
    },
    {
     "data": {
      "image/png": "[encoded data removed]",
      "text/plain": [
       "<matplotlib.figure.Figure at 0x1068f9b0>"
      ]
     },
     "metadata": {},
     "output_type": "display_data"
    }
   ],
   "source": [
    "c=country1[(country1.value>=1) & (country1.Age=='30-44')& (country1.Location=='Pacific')& (country1.Gender=='Male')]\n",
    "c1=pd.DataFrame({'ind' : c.groupby( [ \"cty\", \"value\"] ).size()}).reset_index()\n",
    "c2=pd.DataFrame({'tot' : c.groupby( [ \"cty\"] ).size()}).reset_index()\n",
    "c3=pd.merge(c1,c2 ,how='left')\n",
    "c3['wt']=(c3.ind/c3.tot)\n",
    "c3['avg']=(c3.value)*(c3.wt)\n",
    "c3=pd.DataFrame({'avg': c3.groupby(by=['cty'])['avg'].sum()}).reset_index()\n",
    "c3=c3.sort(['avg'], ascending=False).head()\n",
    "c3.plot(x='cty',y='avg',kind='bar')\n",
    "print 'Cuisine preference in Pacific for males of ages 30-44'"
   ]
  },
  {
   "cell_type": "code",
   "execution_count": 33,
   "metadata": {
    "collapsed": false
   },
   "outputs": [
    {
     "name": "stdout",
     "output_type": "stream",
     "text": [
      "Cuisine preference in Pacific for females of ages 30-44\n"
     ]
    },
    {
     "data": {
      "image/png": "[encoded data removed]",
      "text/plain": [
       "<matplotlib.figure.Figure at 0xa0709b0>"
      ]
     },
     "metadata": {},
     "output_type": "display_data"
    }
   ],
   "source": [
    "c=country1[(country1.value>=1) & (country1.Age=='30-44')& (country1.Location=='Pacific')& (country1.Gender=='Female')]\n",
    "c1=pd.DataFrame({'ind' : c.groupby( [ \"cty\", \"value\"] ).size()}).reset_index()\n",
    "c2=pd.DataFrame({'tot' : c.groupby( [ \"cty\"] ).size()}).reset_index()\n",
    "c3=pd.merge(c1,c2 ,how='left')\n",
    "c3['wt']=(c3.ind/c3.tot)\n",
    "c3['avg']=(c3.value)*(c3.wt)\n",
    "c3=pd.DataFrame({'avg': c3.groupby(by=['cty'])['avg'].sum()}).reset_index()\n",
    "c3=c3.sort(['avg'], ascending=False).head(10)\n",
    "c3.plot(x='cty',y='avg',kind='bar')\n",
    "print 'Cuisine preference in Pacific for females of ages 30-44'"
   ]
  },
  {
   "cell_type": "code",
   "execution_count": null,
   "metadata": {
    "collapsed": false
   },
   "outputs": [],
   "source": []
  },
  {
   "cell_type": "markdown",
   "metadata": {},
   "source": [
    "# Observations"
   ]
  },
  {
   "cell_type": "markdown",
   "metadata": {},
   "source": [
    "From this data, overall Italian is the most liked & American is the most tasted Cuisine"
   ]
  },
  {
   "cell_type": "markdown",
   "metadata": {},
   "source": [
    "Ages 18-44 are more interested in and have some knowledge about food"
   ]
  },
  {
   "cell_type": "markdown",
   "metadata": {},
   "source": [
    "Average knowledge is seen more in people with a lot of interest in food"
   ]
  },
  {
   "cell_type": "markdown",
   "metadata": {
    "collapsed": false
   },
   "source": [
    "On an average Indian food is preferable for people in ages 30-60"
   ]
  },
  {
   "cell_type": "markdown",
   "metadata": {},
   "source": [
    "Males between ages 18-29 have rated Indian food above average as compared to females"
   ]
  },
  {
   "cell_type": "markdown",
   "metadata": {},
   "source": [
    "Males  on an average have given above averge rating for Indian food"
   ]
  },
  {
   "cell_type": "markdown",
   "metadata": {
    "collapsed": false
   },
   "source": [
    "People in Pacific have more favorable opinion about Indian food compared to other Locations."
   ]
  },
  {
   "cell_type": "markdown",
   "metadata": {
    "collapsed": false
   },
   "source": [
    "In Pacific people of ages 30-60 and males of ages 18-29 have rated Indian cuisine above average"
   ]
  },
  {
   "cell_type": "markdown",
   "metadata": {
    "collapsed": false
   },
   "source": [
    "Locations other than Pacific have rated Indian cuisine jus about average"
   ]
  },
  {
   "cell_type": "code",
   "execution_count": null,
   "metadata": {
    "collapsed": false
   },
   "outputs": [],
   "source": []
  },
  {
   "cell_type": "code",
   "execution_count": null,
   "metadata": {
    "collapsed": false
   },
   "outputs": [],
   "source": []
  },
  {
   "cell_type": "code",
   "execution_count": null,
   "metadata": {
    "collapsed": false
   },
   "outputs": [],
   "source": []
  },
  {
   "cell_type": "code",
   "execution_count": null,
   "metadata": {
    "collapsed": true
   },
   "outputs": [],
   "source": []
  },
  {
   "cell_type": "code",
   "execution_count": null,
   "metadata": {
    "collapsed": false
   },
   "outputs": [],
   "source": []
  },
  {
   "cell_type": "code",
   "execution_count": null,
   "metadata": {
    "collapsed": true
   },
   "outputs": [],
   "source": []
  },
  {
   "cell_type": "code",
   "execution_count": null,
   "metadata": {
    "collapsed": false
   },
   "outputs": [],
   "source": []
  },
  {
   "cell_type": "code",
   "execution_count": null,
   "metadata": {
    "collapsed": false
   },
   "outputs": [],
   "source": []
  },
  {
   "cell_type": "code",
   "execution_count": null,
   "metadata": {
    "collapsed": false
   },
   "outputs": [],
   "source": []
  },
  {
   "cell_type": "code",
   "execution_count": null,
   "metadata": {
    "collapsed": false
   },
   "outputs": [],
   "source": []
  },
  {
   "cell_type": "code",
   "execution_count": null,
   "metadata": {
    "collapsed": false
   },
   "outputs": [],
   "source": []
  },
  {
   "cell_type": "code",
   "execution_count": null,
   "metadata": {
    "collapsed": false
   },
   "outputs": [],
   "source": []
  },
  {
   "cell_type": "code",
   "execution_count": null,
   "metadata": {
    "collapsed": false
   },
   "outputs": [],
   "source": []
  },
  {
   "cell_type": "code",
   "execution_count": null,
   "metadata": {
    "collapsed": false
   },
   "outputs": [],
   "source": []
  },
  {
   "cell_type": "code",
   "execution_count": null,
   "metadata": {
    "collapsed": true
   },
   "outputs": [],
   "source": []
  }
 ],
 "metadata": {
  "kernelspec": {
   "display_name": "Python 2",
   "language": "python",
   "name": "python2"
  },
  "language_info": {
   "codemirror_mode": {
    "name": "ipython",
    "version": 2
   },
   "file_extension": ".py",
   "mimetype": "text/x-python",
   "name": "python",
   "nbconvert_exporter": "python",
   "pygments_lexer": "ipython2",
   "version": "2.7.10"
  }
 },
 "nbformat": 4,
 "nbformat_minor": 0
}
